{
 "cells": [
  {
   "cell_type": "markdown",
   "id": "7726122d-cf75-4357-8ae8-e10b0586f299",
   "metadata": {},
   "source": [
    "# Data Science Tools and Ecosystem\n"
   ]
  },
  {
   "cell_type": "markdown",
   "id": "56fe2d11-0f17-42e7-8a9c-3aa5477aaf55",
   "metadata": {},
   "source": [
    "In this notebook, Data Science Tools and Ecosystem are summarized.\n"
   ]
  },
  {
   "cell_type": "markdown",
   "id": "06be7e79-0c61-49f4-ad4f-129c29f25ae5",
   "metadata": {},
   "source": [
    "## Popular Data Science Languages\n",
    "\n",
    "- Python  \n",
    "- R  \n",
    "- SQL  \n",
    "- Julia  \n",
    "- Scala  \n",
    "- Java  \n",
    "- C++  \n",
    "-"
   ]
  },
  {
   "cell_type": "markdown",
   "id": "3c65c511-3774-45ea-b809-3b28e91fe997",
   "metadata": {},
   "source": [
    "## Commonly Used Data Science Libraries\n",
    "\n",
    "- Pandas  \n",
    "- NumPy  \n",
    "- Matplotlib  \n",
    "- Seaborn  \n",
    "- Scikit-learn  \n",
    "- TensorFlow  \n",
    "- Keras  \n",
    "- PyTorch  \n",
    "-"
   ]
  },
  {
   "cell_type": "markdown",
   "id": "5ea8cfdc-62f2-4594-98d5-e5a857652ca5",
   "metadata": {},
   "source": [
    "## Data Science Tools\n",
    "\n",
    "| Tool           | Category              |\n",
    "|----------------|-----------------------|\n",
    "| Jupyter        | Notebook Environment  |\n",
    "| RStudio        | IDE                   |\n",
    "| Apache Spark   | Big Data Framework    |\n",
    "| TensorFlow     | Deep Learning Library |\n",
    "| VS Code        | Code Editor           |"
   ]
  },
  {
   "cell_type": "markdown",
   "id": "11606fe0-5f46-408e-a336-11c34f7e77b7",
   "metadata": {},
   "source": [
    "## Examples of Arithmetic Expressions in Python\n",
    "\n",
    "Here are a few examples demonstrating how arithmetic expressions work using Python."
   ]
  },
  {
   "cell_type": "markdown",
   "id": "1bc9c942-97e0-43b4-895a-53cf253c8e8d",
   "metadata": {},
   "source": [
    "# Multiplying and adding numbers"
   ]
  },
  {
   "cell_type": "code",
   "execution_count": 6,
   "id": "43b8da84-5b1a-4509-a20b-1e2b6558bcb2",
   "metadata": {},
   "outputs": [
    {
     "name": "stdout",
     "output_type": "stream",
     "text": [
      "The sum of 1.5 and 6.3 is 7.8\n"
     ]
    }
   ],
   "source": [
    "# Example 1: Basic addition using '+'\n",
    "a = 1.5\n",
    "b = 6.3\n",
    "sum_result = a + b\n",
    "print(f\"The sum of {a} and {b} is {sum_result}\")  # Output: The sum of 1.5 and 6.3 is 7.8\n"
   ]
  },
  {
   "cell_type": "code",
   "execution_count": 7,
   "id": "e7a04aff-4d75-4c7a-9639-ad60e9bbc020",
   "metadata": {},
   "outputs": [
    {
     "name": "stdout",
     "output_type": "stream",
     "text": [
      "15\n"
     ]
    }
   ],
   "source": [
    "# Example 1: Using '*' for multiplication\n",
    "a = 5\n",
    "b = 3\n",
    "result = a * b\n",
    "print(result)  # Output: 15\n"
   ]
  },
  {
   "cell_type": "markdown",
   "id": "6c8b65da-4dbf-491e-8e46-d22f8dc0078f",
   "metadata": {},
   "source": [
    "# Convert minutes to hours"
   ]
  },
  {
   "cell_type": "markdown",
   "id": "b0c69813-b93e-4eb2-945a-7fc3ffa57f7a",
   "metadata": {},
   "source": [
    "# Convert minutes to hours\n",
    "minutes = 150\n",
    "hours = minutes / 60\n",
    "\n",
    "print(f\"{minutes} minutes is equal to {hours} hours\")"
   ]
  },
  {
   "cell_type": "markdown",
   "id": "2909c70e-1d6e-4ad8-9117-9039a45524e4",
   "metadata": {},
   "source": [
    "## Objectives of This Lab\n",
    "\n",
    "- Learn how to use Markdown and Code cells  \n",
    "- List important data science languages and libraries  \n",
    "- Practice writing basic Python arithmetic  \n",
    "- Format content using tables  \n",
    "- Share notebooks via GitHub  \n",
    "-"
   ]
  },
  {
   "cell_type": "markdown",
   "id": "a8ed0412-ce42-47e4-8b3f-6a74b4c01b6b",
   "metadata": {},
   "source": [
    "**Author:** Vinay Kumar Karumuri"
   ]
  }
 ],
 "metadata": {
  "kernelspec": {
   "display_name": "Python [conda env:base] *",
   "language": "python",
   "name": "conda-base-py"
  },
  "language_info": {
   "codemirror_mode": {
    "name": "ipython",
    "version": 3
   },
   "file_extension": ".py",
   "mimetype": "text/x-python",
   "name": "python",
   "nbconvert_exporter": "python",
   "pygments_lexer": "ipython3",
   "version": "3.13.5"
  }
 },
 "nbformat": 4,
 "nbformat_minor": 5
}
